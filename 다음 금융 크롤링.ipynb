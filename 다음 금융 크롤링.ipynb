{
 "cells": [
  {
   "cell_type": "code",
   "execution_count": 3,
   "metadata": {},
   "outputs": [
    {
     "name": "stderr",
     "output_type": "stream",
     "text": [
      "Error occurred during loading data. Trying to use cache server https://fake-useragent.herokuapp.com/browsers/0.1.11\n",
      "Traceback (most recent call last):\n",
      "  File \"C:\\Users\\user\\anaconda3\\lib\\site-packages\\fake_useragent\\utils.py\", line 67, in get\n",
      "    context=context,\n",
      "  File \"C:\\Users\\user\\anaconda3\\lib\\urllib\\request.py\", line 222, in urlopen\n",
      "    return opener.open(url, data, timeout)\n",
      "  File \"C:\\Users\\user\\anaconda3\\lib\\urllib\\request.py\", line 525, in open\n",
      "    response = self._open(req, data)\n",
      "  File \"C:\\Users\\user\\anaconda3\\lib\\urllib\\request.py\", line 543, in _open\n",
      "    '_open', req)\n",
      "  File \"C:\\Users\\user\\anaconda3\\lib\\urllib\\request.py\", line 503, in _call_chain\n",
      "    result = func(*args)\n",
      "  File \"C:\\Users\\user\\anaconda3\\lib\\urllib\\request.py\", line 1347, in http_open\n",
      "    return self.do_open(http.client.HTTPConnection, req)\n",
      "  File \"C:\\Users\\user\\anaconda3\\lib\\urllib\\request.py\", line 1322, in do_open\n",
      "    r = h.getresponse()\n",
      "  File \"C:\\Users\\user\\anaconda3\\lib\\http\\client.py\", line 1344, in getresponse\n",
      "    response.begin()\n",
      "  File \"C:\\Users\\user\\anaconda3\\lib\\http\\client.py\", line 306, in begin\n",
      "    version, status, reason = self._read_status()\n",
      "  File \"C:\\Users\\user\\anaconda3\\lib\\http\\client.py\", line 267, in _read_status\n",
      "    line = str(self.fp.readline(_MAXLINE + 1), \"iso-8859-1\")\n",
      "  File \"C:\\Users\\user\\anaconda3\\lib\\socket.py\", line 589, in readinto\n",
      "    return self._sock.recv_into(b)\n",
      "socket.timeout: timed out\n",
      "\n",
      "During handling of the above exception, another exception occurred:\n",
      "\n",
      "Traceback (most recent call last):\n",
      "  File \"C:\\Users\\user\\anaconda3\\lib\\site-packages\\fake_useragent\\utils.py\", line 166, in load\n",
      "    verify_ssl=verify_ssl,\n",
      "  File \"C:\\Users\\user\\anaconda3\\lib\\site-packages\\fake_useragent\\utils.py\", line 122, in get_browser_versions\n",
      "    verify_ssl=verify_ssl,\n",
      "  File \"C:\\Users\\user\\anaconda3\\lib\\site-packages\\fake_useragent\\utils.py\", line 84, in get\n",
      "    raise FakeUserAgentError('Maximum amount of retries reached')\n",
      "fake_useragent.errors.FakeUserAgentError: Maximum amount of retries reached\n"
     ]
    },
    {
     "name": "stdout",
     "output_type": "stream",
     "text": [
      "중간 확인 :  [{'rank': 1, 'rankChange': 0, 'symbolCode': 'A005930', 'code': 'KR7005930003', 'name': '삼성전자', 'tradePrice': 58000, 'change': 'RISE', 'changePrice': 1100, 'changeRate': 0.0193321617, 'chartSlideImage': None, 'isNew': False}, {'rank': 2, 'rankChange': 0, 'symbolCode': 'A096530', 'code': 'KR7096530001', 'name': '씨젠', 'tradePrice': 307800, 'change': 'RISE', 'changePrice': 29800, 'changeRate': 0.1071942446, 'chartSlideImage': None, 'isNew': False}, {'rank': 3, 'rankChange': 0, 'symbolCode': 'A068270', 'code': 'KR7068270008', 'name': '셀트리온', 'tradePrice': 311500, 'change': 'FALL', 'changePrice': 3500, 'changeRate': 0.0111111111, 'chartSlideImage': None, 'isNew': True}, {'rank': 4, 'rankChange': 2, 'symbolCode': 'A005380', 'code': 'KR7005380001', 'name': '현대차', 'tradePrice': 141500, 'change': 'RISE', 'changePrice': 7500, 'changeRate': 0.0559701493, 'chartSlideImage': None, 'isNew': False}, {'rank': 5, 'rankChange': 0, 'symbolCode': 'A019170', 'code': 'KR7019170000', 'name': '신풍제약', 'tradePrice': 78800, 'change': 'RISE', 'changePrice': 100, 'changeRate': 0.001270648, 'chartSlideImage': None, 'isNew': False}, {'rank': 6, 'rankChange': 1, 'symbolCode': 'A035720', 'code': 'KR7035720002', 'name': '카카오', 'tradePrice': 365500, 'change': 'FALL', 'changePrice': 5000, 'changeRate': 0.0134952767, 'chartSlideImage': None, 'isNew': False}, {'rank': 7, 'rankChange': -4, 'symbolCode': 'A164060', 'code': 'KR7164060006', 'name': '이루다', 'tradePrice': 19150, 'change': 'RISE', 'changePrice': 1150, 'changeRate': 0.0638888889, 'chartSlideImage': None, 'isNew': False}, {'rank': 8, 'rankChange': 0, 'symbolCode': 'A009830', 'code': 'KR7009830001', 'name': '한화솔루션', 'tradePrice': 28900, 'change': 'EVEN', 'changePrice': 0, 'changeRate': 0, 'chartSlideImage': None, 'isNew': True}, {'rank': 9, 'rankChange': -1, 'symbolCode': 'A006400', 'code': 'KR7006400006', 'name': '삼성SDI', 'tradePrice': 470000, 'change': 'RISE', 'changePrice': 2000, 'changeRate': 0.0042735043, 'chartSlideImage': None, 'isNew': False}, {'rank': 10, 'rankChange': 0, 'symbolCode': 'A096770', 'code': 'KR7096770003', 'name': 'SK이노베이션', 'tradePrice': 163000, 'change': 'RISE', 'changePrice': 4000, 'changeRate': 0.0251572327, 'chartSlideImage': None, 'isNew': False}] \n",
      "\n",
      "순위 : 1, 금액 : 58000, 회사명 : 삼성전자\n",
      "순위 : 2, 금액 : 307800, 회사명 : 씨젠\n",
      "순위 : 3, 금액 : 311500, 회사명 : 셀트리온\n",
      "순위 : 4, 금액 : 141500, 회사명 : 현대차\n",
      "순위 : 5, 금액 : 78800, 회사명 : 신풍제약\n",
      "순위 : 6, 금액 : 365500, 회사명 : 카카오\n",
      "순위 : 7, 금액 : 19150, 회사명 : 이루다\n",
      "순위 : 8, 금액 : 28900, 회사명 : 한화솔루션\n",
      "순위 : 9, 금액 : 470000, 회사명 : 삼성SDI\n",
      "순위 : 10, 금액 : 163000, 회사명 : SK이노베이션\n"
     ]
    }
   ],
   "source": [
    "# 2019-01-28 수정\n",
    "# 기존 daum 주식 사이트 : ajax 방식으로 변경으로 인해 이를 반영한 코드를 수정.\n",
    "# !pip install fake-useragent\n",
    "\n",
    "import io\n",
    "import json\n",
    "import sys\n",
    "import urllib.request as req\n",
    "\n",
    "from fake_useragent import UserAgent\n",
    "\n",
    "# sys.stdout = io.TextIOWrapper(sys.stdout.detach(), encoding='utf-8')\n",
    "# sys.stderr = io.TextIOWrapper(sys.stderr.detach(), encoding='utf-8')\n",
    "\n",
    "# Fake Header 정보\n",
    "ua = UserAgent()\n",
    "\n",
    "# 헤더 선언\n",
    "headers = {\n",
    "    'User-Agent': ua.ie,\n",
    "    'referer': 'https://finance.daum.net/'\n",
    "}\n",
    "\n",
    "# 다음 주식 요청 URL\n",
    "url = \"https://finance.daum.net/api/search/ranks?limit=10\"\n",
    "\n",
    "# print(request.get_method())   #Post or Get 확인\n",
    "# print(request.get_full_url()) #요청 Full Url 확인\n",
    "\n",
    "# 요청\n",
    "res = req.urlopen(req.Request(url, headers=headers)).read().decode('utf-8')\n",
    "\n",
    "# 응답 데이터 확인(Json Data)\n",
    "# print('res', res)\n",
    "\n",
    "# 응답 데이터 str -> json 변환 및 data 값 저장\n",
    "rank_json = json.loads(res)['data']\n",
    "\n",
    "# 중간 확인\n",
    "print('중간 확인 : ', rank_json, '\\n')\n",
    "\n",
    "for elm in rank_json:\n",
    "    # print(type(elm)) #Type 확인\n",
    "    print('순위 : {}, 금액 : {}, 회사명 : {}'.format(elm['rank'], elm['tradePrice'], elm['name']), )"
   ]
  },
  {
   "cell_type": "code",
   "execution_count": null,
   "metadata": {},
   "outputs": [],
   "source": []
  }
 ],
 "metadata": {
  "kernelspec": {
   "display_name": "Python 3",
   "language": "python",
   "name": "python3"
  },
  "language_info": {
   "codemirror_mode": {
    "name": "ipython",
    "version": 3
   },
   "file_extension": ".py",
   "mimetype": "text/x-python",
   "name": "python",
   "nbconvert_exporter": "python",
   "pygments_lexer": "ipython3",
   "version": "3.7.6"
  }
 },
 "nbformat": 4,
 "nbformat_minor": 4
}
