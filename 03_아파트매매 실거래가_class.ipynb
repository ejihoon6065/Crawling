{
 "cells": [
  {
   "cell_type": "markdown",
   "metadata": {},
   "source": [
    "# OpenAPI 활용\n",
    " * 공공데이터 포털 : https://www.data.go.kr/\n",
    " * 회원가입\n",
    " * '아파트매매 실거래자료'검색\n",
    " * OPEN API에서 XML 형태로 제공하는 항목 선택\n",
    " * 활용 신청 > 기타 \n",
    " \n",
    " * 마이페이지 > 일반 인증키(UTF-8), End Point, hwp 문서 확인"
   ]
  },
  {
   "cell_type": "code",
   "execution_count": 1,
   "metadata": {},
   "outputs": [],
   "source": [
    "import json\n",
    "import xmltodict\n",
    "import csv\n",
    "import requests"
   ]
  },
  {
   "cell_type": "code",
   "execution_count": 2,
   "metadata": {},
   "outputs": [],
   "source": [
    "def wirte_csv(file_name, data) :\n",
    "    ## encoding='utf-8' 시 한글 깨짐 현상 발견시, \n",
    "    # encoding='euc-kr'로 해야 안깨짐, \n",
    "    # 이유 크롤하는 사이트가 euc-kr 인코딩된 한글 바이트를 사용하였기 때문,\n",
    "    ## 파이썬 출력결과는 기본적으로 utf-8, euc-kr 인코딩이 되지만, csv 파일 저장시 인코딩 방식을 직접 저장해줘야 함\n",
    "    with open(f'{file_name}.csv', 'a', encoding='euc-kr') as f:\n",
    "        writer = csv.writer(f, lineterminator='\\n')\n",
    "        writer.writerow(data)"
   ]
  },
  {
   "cell_type": "code",
   "execution_count": 3,
   "metadata": {},
   "outputs": [
    {
     "ename": "KeyError",
     "evalue": "'body'",
     "output_type": "error",
     "traceback": [
      "\u001b[1;31m---------------------------------------------------------------------------\u001b[0m",
      "\u001b[1;31mKeyError\u001b[0m                                  Traceback (most recent call last)",
      "\u001b[1;32m<ipython-input-3-a7c37c76fe96>\u001b[0m in \u001b[0;36m<module>\u001b[1;34m\u001b[0m\n\u001b[0;32m     15\u001b[0m \u001b[0mjsonDict\u001b[0m \u001b[1;33m=\u001b[0m \u001b[0mjson\u001b[0m\u001b[1;33m.\u001b[0m\u001b[0mloads\u001b[0m\u001b[1;33m(\u001b[0m\u001b[0mjsonString\u001b[0m\u001b[1;33m)\u001b[0m\u001b[1;33m\u001b[0m\u001b[1;33m\u001b[0m\u001b[0m\n\u001b[0;32m     16\u001b[0m \u001b[1;33m\u001b[0m\u001b[0m\n\u001b[1;32m---> 17\u001b[1;33m \u001b[0mitem\u001b[0m \u001b[1;33m=\u001b[0m \u001b[0mjsonDict\u001b[0m\u001b[1;33m[\u001b[0m\u001b[1;34m'response'\u001b[0m\u001b[1;33m]\u001b[0m\u001b[1;33m[\u001b[0m\u001b[1;34m'body'\u001b[0m\u001b[1;33m]\u001b[0m\u001b[1;33m[\u001b[0m\u001b[1;34m'items'\u001b[0m\u001b[1;33m]\u001b[0m\u001b[1;33m[\u001b[0m\u001b[1;34m'item'\u001b[0m\u001b[1;33m]\u001b[0m\u001b[1;33m\u001b[0m\u001b[1;33m\u001b[0m\u001b[0m\n\u001b[0m\u001b[0;32m     18\u001b[0m \u001b[0mwirte_csv\u001b[0m\u001b[1;33m(\u001b[0m\u001b[1;34m'2_부동산_정보'\u001b[0m\u001b[1;33m,\u001b[0m \u001b[1;33m[\u001b[0m\u001b[1;34m\"거래금액\"\u001b[0m\u001b[1;33m,\u001b[0m \u001b[1;34m\"아파트명\"\u001b[0m\u001b[1;33m,\u001b[0m \u001b[1;34m\"전용면적\"\u001b[0m\u001b[1;33m]\u001b[0m\u001b[1;33m)\u001b[0m\u001b[1;33m\u001b[0m\u001b[1;33m\u001b[0m\u001b[0m\n\u001b[0;32m     19\u001b[0m \u001b[1;32mfor\u001b[0m \u001b[0meach\u001b[0m \u001b[1;32min\u001b[0m \u001b[0mitem\u001b[0m \u001b[1;33m:\u001b[0m\u001b[1;33m\u001b[0m\u001b[1;33m\u001b[0m\u001b[0m\n",
      "\u001b[1;31mKeyError\u001b[0m: 'body'"
     ]
    }
   ],
   "source": [
    "### https://www.data.go.kr/iim/api/selectAPIAcountView.do \n",
    "# 지역코드\n",
    "LAWD_CD = 11110\n",
    "# 계약월 6자리\n",
    "DEAL_YMD = 201812\n",
    "# 인증키\n",
    "API_KEY = '일반 인증키(UTF-8)'\n",
    "url = f'http://openapi.molit.go.kr/OpenAPI_ToolInstallPackage/service/rest/RTMSOBJSvc/getRTMSDataSvcAptTradeDev?LAWD_CD={LAWD_CD}&DEAL_YMD={DEAL_YMD}&serviceKey={API_KEY}'\n",
    "\n",
    "# get html\n",
    "response = requests.get(url)\n",
    "\n",
    "jsonString = json.dumps(xmltodict.parse(response.text), indent=4, ensure_ascii=False)\n",
    "# print(jsonString)\n",
    "jsonDict = json.loads(jsonString)\n",
    "\n",
    "item = jsonDict['response']['body']['items']['item']\n",
    "wirte_csv('2_부동산_정보', [\"거래금액\", \"아파트명\", \"전용면적\"])\n",
    "for each in item :\n",
    "    if float(each['전용면적']) > 80 :\n",
    "        print(\"[거래금액]\" + each['거래금액'] + \" [아파트명] \" + each['아파트'] + \" [전용면적]\" +  each['전용면적'])\n",
    "        wirte_csv('2_부동산_정보', [each['거래금액'], each['아파트'], each['전용면적']])"
   ]
  },
  {
   "cell_type": "code",
   "execution_count": null,
   "metadata": {},
   "outputs": [],
   "source": []
  }
 ],
 "metadata": {
  "kernelspec": {
   "display_name": "Python 3",
   "language": "python",
   "name": "python3"
  },
  "language_info": {
   "codemirror_mode": {
    "name": "ipython",
    "version": 3
   },
   "file_extension": ".py",
   "mimetype": "text/x-python",
   "name": "python",
   "nbconvert_exporter": "python",
   "pygments_lexer": "ipython3",
   "version": "3.7.6"
  },
  "toc": {
   "base_numbering": 1,
   "nav_menu": {},
   "number_sections": false,
   "sideBar": true,
   "skip_h1_title": false,
   "title_cell": "Table of Contents",
   "title_sidebar": "Contents",
   "toc_cell": false,
   "toc_position": {},
   "toc_section_display": true,
   "toc_window_display": false
  }
 },
 "nbformat": 4,
 "nbformat_minor": 4
}
